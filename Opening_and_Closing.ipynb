{
 "cells": [
  {
   "cell_type": "code",
   "execution_count": 33,
   "id": "a0a3bb95",
   "metadata": {},
   "outputs": [],
   "source": [
    "import cv2\n",
    "import numpy as np"
   ]
  },
  {
   "cell_type": "code",
   "execution_count": 34,
   "id": "fd59d6a1",
   "metadata": {},
   "outputs": [],
   "source": [
    "img= np.zeros((350,1400),dtype ='uint8')\n",
    "font = cv2.FONT_HERSHEY_SIMPLEX\n",
    "cv2.putText(img,'M.Rajeshkannan',(15,200),font,5,(255),10,cv2.LINE_AA)\n",
    "cv2.imshow('created_text',img)\n",
    "cv2.waitKey(0)\n",
    "cv2.destroyAllWindows()"
   ]
  },
  {
   "cell_type": "code",
   "execution_count": 24,
   "id": "d2a7772c",
   "metadata": {},
   "outputs": [],
   "source": [
    "# img = cv2.imread('input.png',-1)\n",
    "# cv2.imshow('Original',img)\n",
    "# cv2.waitKey(0)\n",
    "# cv2.destroyAllWindows()"
   ]
  },
  {
   "cell_type": "code",
   "execution_count": 37,
   "id": "c29637b0",
   "metadata": {},
   "outputs": [],
   "source": [
    "struct_ele= np.ones((9,9),np.uint8)"
   ]
  },
  {
   "cell_type": "code",
   "execution_count": 38,
   "id": "d0fa2109",
   "metadata": {},
   "outputs": [],
   "source": [
    "opening = cv2.morphologyEx(img,cv2.MORPH_OPEN,struct_ele)\n",
    "cv2.imshow('Opening',opening)\n",
    "cv2.waitKey(0)\n",
    "cv2.destroyAllWindows()"
   ]
  },
  {
   "cell_type": "code",
   "execution_count": 39,
   "id": "d20e1ce0",
   "metadata": {},
   "outputs": [],
   "source": [
    "closing = cv2.morphologyEx(img,cv2.MORPH_CLOSE,struct_ele)\n",
    "cv2.imshow('Closing',closing)\n",
    "cv2.waitKey(0)\n",
    "cv2.destroyAllWindows()"
   ]
  },
  {
   "cell_type": "code",
   "execution_count": null,
   "id": "c1ae53f7",
   "metadata": {},
   "outputs": [],
   "source": []
  }
 ],
 "metadata": {
  "kernelspec": {
   "display_name": "Python 3",
   "language": "python",
   "name": "python3"
  },
  "language_info": {
   "codemirror_mode": {
    "name": "ipython",
    "version": 3
   },
   "file_extension": ".py",
   "mimetype": "text/x-python",
   "name": "python",
   "nbconvert_exporter": "python",
   "pygments_lexer": "ipython3",
   "version": "3.8.8"
  }
 },
 "nbformat": 4,
 "nbformat_minor": 5
}
